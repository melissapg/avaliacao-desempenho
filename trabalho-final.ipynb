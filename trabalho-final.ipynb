{
 "cells": [
  {
   "cell_type": "markdown",
   "metadata": {},
   "source": [
    "# Trabalho Final - Rede Aberta de Filas\n",
    "## Modelagem de Avaliação e Desempenho 2024.2\n",
    "### Alunas: Melissa Pereira Guarilha, Mellanie Pereira Guarilha"
   ]
  },
  {
   "cell_type": "markdown",
   "metadata": {},
   "source": [
    "O objetivo do projeto foi simular uma rede aberta de filas com três servidores (S1, S2 e S3) para avaliar experimentalmente métricas relacionadas ao tempo de processamento de jobs no sistema. Foram analisadas três situações distintas, variando as distribuições de tempo de serviço em cada servidor, com o intuito de calcular o tempo médio e o desvio padrão do tempo de permanência dos jobs no sistema."
   ]
  },
  {
   "cell_type": "markdown",
   "metadata": {},
   "source": [
    "## Simulação"
   ]
  },
  {
   "cell_type": "markdown",
   "metadata": {},
   "source": [
    "A solução idealizada para a simulação foi desenvolver um esquema com dois tipos distintos de servidores a serem instanciados: servidores de entrada e servidores de saída. Cada servidor é responsável por processar um job durante um intervalo de tempo definido.\n",
    "\n",
    "Os jobs são inicialmente criados seguindo uma taxa de chegada que obedece a uma distribuição exponencial (variável aleatória) com média de 0,5. Após a criação, os jobs, juntamente com seus tempos de chegada, são enfileirados no servidor 1. Em seguida, os jobs são processados de acordo com a disponibilidade do servidor 1, respeitando a regra de que só podem ser atendidos após o momento de sua criação (ou seja, o tempo de chegada deve ser maior ou igual ao tempo atual). Após serem processados no servidor 1, os jobs são encaminhados para seleção entre os servidores de saída 2 e 3.\n",
    "\n",
    "Optou-se por adicionar todos os jobs à fila imediatamente após sua criação para simplificar o processo de geração e organização dos jobs, permitindo uma simulação mais direta do sistema e a avaliação de seu tempo médio.\n",
    "\n",
    "As distribuições de tempo de serviço foram configuradas de maneira distinta para cada tipo de servidor, com funções específicas para refletir as características desejadas de cada um."
   ]
  },
  {
   "cell_type": "code",
   "execution_count": 2,
   "metadata": {},
   "outputs": [],
   "source": [
    "from typing import Callable, Tuple\n",
    "import numpy as np\n",
    "import queue\n",
    "import random"
   ]
  },
  {
   "cell_type": "code",
   "execution_count": 3,
   "metadata": {},
   "outputs": [],
   "source": [
    "class Job:\n",
    "  \"\"\"\n",
    "  Define um job.\n",
    "\n",
    "  Attributes\n",
    "    ----------\n",
    "    id : int\n",
    "        O id do job.\n",
    "    tempo_de_chegada : int\n",
    "        O tempo de chegada do job no sistema.\n",
    "    tempo_de_saida : int\n",
    "        O tempo de saida do job no sistema.\n",
    "  \"\"\"\n",
    "  def __init__(self, id: int, tempo_de_chegada: float):\n",
    "    self.id = id\n",
    "    self.tempo_de_chegada = tempo_de_chegada\n",
    "    self.tempo_de_saida = 0"
   ]
  },
  {
   "cell_type": "code",
   "execution_count": null,
   "metadata": {},
   "outputs": [],
   "source": [
    "def gera_jobs(quantidade_de_jobs: int, warmup: int, tempo_entre_chegadas: float = 0.5) -> list[Job]:\n",
    "  \"\"\"\n",
    "  Gera uma lista de objetos Job com diferentes tempos de chegada.\n",
    "  Os tempos de chegada seguem uma V.A Exponencial de média 0.5.\n",
    "  \"\"\"\n",
    "  tempo_atual = 0\n",
    "  jobs = []\n",
    "  for i in range(0, quantidade_de_jobs + warmup):\n",
    "    jobs.append(Job(i, tempo_atual))\n",
    "    tempo_atual += np.random.exponential(tempo_entre_chegadas)\n",
    "  return jobs"
   ]
  },
  {
   "cell_type": "code",
   "execution_count": null,
   "metadata": {},
   "outputs": [],
   "source": [
    "class ServidorInicial():\n",
    "  def __init__(self, tempo_de_serviço: float):\n",
    "    self.tempo_de_serviço = tempo_de_serviço\n",
    "    self.ocupado = False\n",
    "    self.tempo_previsto_de_termino = 0\n",
    "    self.fila = queue.Queue()\n",
    "    self.job_trabalhando = None\n",
    "  \n",
    "  def trabalha(self, tempo_atual: float, job: Job = None):\n",
    "    \"\"\"\n",
    "    Se o servidor não estiver ocupado, começa a servir um job da fila.\n",
    "    \"\"\"\n",
    "    if not self.ocupado and not self.fila.empty():\n",
    "\n",
    "      # condição para não rodar jobs que teoricamente \"ainda não chegaram\"\n",
    "      if tempo_atual < self.fila.queue[0].tempo_de_chegada:\n",
    "        return\n",
    "\n",
    "      # pega um job da fila\n",
    "      job = self.fila.get(job)\n",
    "      self.job_trabalhando = job\n",
    "      job.tempo_de_saida = tempo_atual + self.tempo_de_serviço\n",
    "\n",
    "      self.ocupado = True\n",
    "\n",
    "  def conclui_trabalho(self, tempo_atual: float) -> Job:\n",
    "    \"\"\"\n",
    "    Conclui o trabalho que o servidor estava trabalhando.\n",
    "    \"\"\"\n",
    "    if self.ocupado and tempo_atual >= self.job_trabalhando.tempo_de_saida:\n",
    "      job_saindo = self.job_trabalhando\n",
    "\n",
    "      self.ocupado = False\n",
    "      self.job_trabalhando = None\n",
    "\n",
    "      return job_saindo"
   ]
  },
  {
   "cell_type": "code",
   "execution_count": null,
   "metadata": {},
   "outputs": [],
   "source": [
    "class ServidoresFinais():\n",
    "  def __init__(self, tempo_de_serviço: float, chance_de_retornar: float = 0):\n",
    "    self.tempo_de_serviço = tempo_de_serviço\n",
    "    self.chance_de_retornar = chance_de_retornar\n",
    "    self.ocupado = False\n",
    "    self.tempo_previsto_de_termino = 0\n",
    "    self.fila = queue.Queue()\n",
    "  \n",
    "  def trabalha(self, tempo_atual: float):\n",
    "    \"\"\"\n",
    "    Se o servidor não estiver ocupado, começa a servir um job da fila.\n",
    "    \"\"\"\n",
    "    job = None\n",
    "\n",
    "    if not self.ocupado and not self.fila.empty():\n",
    "      job = self.fila.get(job)\n",
    "      job.tempo_de_saida = tempo_atual + self.tempo_de_serviço\n",
    "\n",
    "      self.ocupado = True\n",
    "      self.tempo_previsto_de_termino = tempo_atual + self.tempo_de_serviço\n",
    "\n",
    "      # calcula se o job retornará para fila com probabilidade 'chance_de_retornar'\n",
    "      if random.random() < self.chance_de_retornar:\n",
    "        self.fila.put(job)\n",
    "  \n",
    "  def conclui_trabalho(self, tempo_atual: float):\n",
    "    \"\"\"\n",
    "    Conclui o trabalho que o servidor estava trabalhando e serve o próximo job que está na fila.\n",
    "    \"\"\"\n",
    "    if self.ocupado and tempo_atual >= self.tempo_previsto_de_termino:\n",
    "      self.ocupado = False\n",
    "      self.tempo_previsto_de_termino = 0\n",
    "\n",
    "      self.trabalha(tempo_atual)"
   ]
  },
  {
   "cell_type": "code",
   "execution_count": null,
   "metadata": {},
   "outputs": [],
   "source": [
    "def sistema(jobs: list[Job], funcao_servidor_1: Callable[[], float], funcao_servidor_2: Callable[[], float], funcao_servidor_3: Callable[[], float]):\n",
    "  \"\"\"\n",
    "  Simula um sistema com três servidores.\n",
    "  \"\"\"\n",
    "  tempo_atual = 0\n",
    "\n",
    "  Servidor1 = ServidorInicial(funcao_servidor_1())\n",
    "  Servidor2 = ServidoresFinais(funcao_servidor_2(), 0.2)\n",
    "  Servidor3 = ServidoresFinais(funcao_servidor_3())\n",
    "\n",
    "  # opções e probabilidades dos servidores 2 e 3\n",
    "  opcoes = [\"S2\", \"S3\"]\n",
    "  probabilidades = [0.5, 0.5]\n",
    "\n",
    "  # insere os jobs na fila do servidor 1\n",
    "  for job in jobs:\n",
    "    Servidor1.fila.put(job)\n",
    "\n",
    "  # o primeiro job a chegar é sempre executado direto, dado que a fila está vazia\n",
    "  Servidor1.trabalha(tempo_atual)\n",
    "\n",
    "  while not Servidor1.fila.empty() or Servidor1.ocupado or not Servidor2.fila.empty() or Servidor2.ocupado or not Servidor3.fila.empty() or Servidor3.ocupado:\n",
    "\n",
    "    # se job em execução tiver terminado o trabalho, libera o servidor\n",
    "    job = Servidor1.conclui_trabalho(tempo_atual)\n",
    "    # tenta executar o próximo serviço se o servidor estiver livre\n",
    "    Servidor1.trabalha(tempo_atual)\n",
    "    \n",
    "    # se algum job saiu do servidor 1\n",
    "    if job:\n",
    "      # escolhe o servidor 2 ou 3 com base nas probabilidades\n",
    "      servidor_escolhido = random.choices(opcoes, probabilidades)[0]\n",
    "\n",
    "      if servidor_escolhido == \"S2\":\n",
    "        # adiciona o job na fila do servidor 2\n",
    "        Servidor2.fila.put(job)\n",
    "        Servidor2.trabalha(tempo_atual)\n",
    "      else:\n",
    "        # adiciona o job na fila do servidor 3\n",
    "        Servidor3.fila.put(job)\n",
    "        Servidor3.trabalha(tempo_atual)\n",
    "\n",
    "    # se job em execução tiver terminado o trabalho, libera os servidores e inicia o próximo job que está na fila \n",
    "    Servidor2.conclui_trabalho(tempo_atual)\n",
    "    Servidor3.conclui_trabalho(tempo_atual)\n",
    "\n",
    "    tempo_atual += 0.01"
   ]
  },
  {
   "cell_type": "code",
   "execution_count": null,
   "metadata": {},
   "outputs": [],
   "source": [
    "# Situação 1: os tempos de serviço são fixos, determinísticos, e iguais a 0.4s, 0.6s e 0.95s, respectivamente.\n",
    "def S1_deterministico(): return 0.4\n",
    "def S2_deterministico(): return 0.6\n",
    "def S3_deterministico(): return 0.95\n",
    "\n",
    "# Situação 2: os tempos de serviço nos três servidores são V.A.s uniformes nos intervalos (0.1, 0.7), (0.1, 1.1) e (0.1, 1.8), respectivamente. \n",
    "def S1_uniforme(): return np.random.uniform(0.1, 0.7)\n",
    "def S2_uniforme(): return np.random.uniform(0.1, 1.1)\n",
    "def S3_uniforme(): return np.random.uniform(0.1, 1.8)\n",
    "\n",
    "# Situação 3: os tempos de serviço são V.A.s exponenciais com médias 0.4s, 0.6s e 0.95s, respectivamente.\n",
    "def S1_exponencial(): return np.random.exponential(0.4)\n",
    "def S2_exponencial(): return np.random.exponential(0.6)\n",
    "def S3_exponencial(): return np.random.exponential(0.95)"
   ]
  },
  {
   "cell_type": "markdown",
   "metadata": {},
   "source": [
    "### Execução da simulação"
   ]
  },
  {
   "cell_type": "markdown",
   "metadata": {},
   "source": [
    "A simulação foi realizada utilizando 100.000 jobs de aquecimento (warmup) e 100.000 jobs \"reais\" em cada cenário analisado. Inicialmente, a ideia era utilizar apenas 10.000 jobs, mas, devido à falta de convergência dos valores obtidos, o número foi ampliado para 100.000."
   ]
  },
  {
   "cell_type": "code",
   "execution_count": 202,
   "metadata": {},
   "outputs": [],
   "source": [
    "QUANTIDADE_DE_JOBS, WARMUP = 100000, 100000"
   ]
  },
  {
   "cell_type": "code",
   "execution_count": 203,
   "metadata": {},
   "outputs": [],
   "source": [
    "jobs_deterministicos = gera_jobs(QUANTIDADE_DE_JOBS, WARMUP)\n",
    "sistema(jobs_deterministicos, S1_deterministico, S2_deterministico, S3_deterministico)"
   ]
  },
  {
   "cell_type": "code",
   "execution_count": 204,
   "metadata": {},
   "outputs": [],
   "source": [
    "jobs_uniformes = gera_jobs(QUANTIDADE_DE_JOBS, WARMUP)\n",
    "sistema(jobs_uniformes, S1_uniforme, S2_uniforme, S3_uniforme)"
   ]
  },
  {
   "cell_type": "code",
   "execution_count": 205,
   "metadata": {},
   "outputs": [],
   "source": [
    "jobs_exponenciais = gera_jobs(QUANTIDADE_DE_JOBS, WARMUP)\n",
    "sistema(jobs_exponenciais, S1_exponencial, S2_exponencial, S3_exponencial)"
   ]
  },
  {
   "cell_type": "markdown",
   "metadata": {},
   "source": [
    "## Métricas"
   ]
  },
  {
   "cell_type": "markdown",
   "metadata": {},
   "source": [
    "A abordagem adotada para o cálculo das métricas consistiu em determinar o tempo no sistema de cada job como a diferença entre o momento de saída e o momento de chegada. Com base nesses valores, foram calculadas a média do tempo no sistema e o desvio padrão."
   ]
  },
  {
   "cell_type": "code",
   "execution_count": null,
   "metadata": {},
   "outputs": [],
   "source": [
    "def calcula_metricas(jobs: list[Job]) -> Tuple[float, float]:\n",
    "  \"\"\"\n",
    "  Calcula as métricas de tempo médio no sistema e desvio padrão.\n",
    "  \"\"\"\n",
    "  tempo_total_no_sistema = sum((job.tempo_de_saida - job.tempo_de_chegada) for job in jobs[WARMUP:])\n",
    "  tempo_medio_no_sistema = tempo_total_no_sistema / QUANTIDADE_DE_JOBS\n",
    "\n",
    "  desvio_padrao_no_tempo_do_sistema = np.std([job.tempo_de_saida - job.tempo_de_chegada for job in jobs[WARMUP:]])\n",
    "\n",
    "  return tempo_medio_no_sistema, desvio_padrao_no_tempo_do_sistema"
   ]
  },
  {
   "cell_type": "code",
   "execution_count": null,
   "metadata": {},
   "outputs": [],
   "source": [
    "# efetuando os cálculos para cada situação\n",
    "metricas_deterministico = calcula_metricas(jobs_deterministicos)\n",
    "metricas_uniforme = calcula_metricas(jobs_uniformes)\n",
    "metricas_exponencial = calcula_metricas(jobs_exponenciais)"
   ]
  },
  {
   "cell_type": "code",
   "execution_count": 194,
   "metadata": {},
   "outputs": [
    {
     "name": "stdout",
     "output_type": "stream",
     "text": [
      "Situação 1 (Tempos de serviço determinísticos)\tTempo médio do sistema: 7.575153236768803\tDesvio padrão no tempo do sistema: 8.180536068032259\n",
      "Situação 2 (Tempos de serviço uniformes)\tTempo médio do sistema: 10079.679878351002\tDesvio padrão no tempo do sistema: 10455.74575219189\n",
      "Situação 3 (Tempos de serviço exponenciais)\tTempo médio do sistema: 6.4722792392945125\tDesvio padrão no tempo do sistema: 7.3797113962679575\n"
     ]
    }
   ],
   "source": [
    "print(f\"Situação 1 (Tempos de serviço determinísticos)\\tTempo médio do sistema: {metricas_deterministico[0]}\\tDesvio padrão no tempo do sistema: {metricas_deterministico[1]}\")\n",
    "print(f\"Situação 2 (Tempos de serviço uniformes)\\tTempo médio do sistema: {metricas_uniforme[0]}\\tDesvio padrão no tempo do sistema: {metricas_uniforme[1]}\")\n",
    "print(f\"Situação 3 (Tempos de serviço exponenciais)\\tTempo médio do sistema: {metricas_exponencial[0]}\\tDesvio padrão no tempo do sistema: {metricas_exponencial[1]}\")"
   ]
  },
  {
   "cell_type": "markdown",
   "metadata": {},
   "source": [
    "Os resultados demonstraram como as diferentes distribuições de tempo de serviço impactam o comportamento do sistema. Nas Situações 1 e 2, os tempos médios convergiram para valores entre 5 segundos e 10 segundos, respectivamente, indicando um sistema mais eficiente, com tempos médios reduzidos e variações significativamente menores. Já na Situação 3, onde foi aplicada uma distribuição uniforme para os tempos de serviço, os tempos médios foram consideravelmente mais altos. Esse padrão sugere que essa configuração pode causar um aumento no congestionamento, resultando em um desempenho global menos eficiente."
   ]
  }
 ],
 "metadata": {
  "kernelspec": {
   "display_name": "Python 3",
   "language": "python",
   "name": "python3"
  },
  "language_info": {
   "codemirror_mode": {
    "name": "ipython",
    "version": 3
   },
   "file_extension": ".py",
   "mimetype": "text/x-python",
   "name": "python",
   "nbconvert_exporter": "python",
   "pygments_lexer": "ipython3",
   "version": "3.12.8"
  }
 },
 "nbformat": 4,
 "nbformat_minor": 2
}
