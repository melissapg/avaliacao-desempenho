{
 "cells": [
  {
   "cell_type": "markdown",
   "metadata": {},
   "source": [
    "# Trabalho Final - Rede Aberta de Filas\n",
    "## Modelagem de Avaliação e Desempenho 2024.2\n",
    "### Alunas: Melissa Pereira Guarilha, Mellanie Pereira Guarilha"
   ]
  },
  {
   "cell_type": "markdown",
   "metadata": {},
   "source": [
    "O objetivo do trabalho é pipipo popopo."
   ]
  },
  {
   "cell_type": "markdown",
   "metadata": {},
   "source": [
    "## Simulação"
   ]
  },
  {
   "cell_type": "markdown",
   "metadata": {},
   "source": [
    "a solução idealizada para simulação foi construir um esquema onde existem 2 tipos diferentes de servidores a serem instanciados (servidores de entrada e servidores intermédiarios), cada servidor é responsável por servir um job durante determinado tempo.\n",
    "\n",
    "Os jobs inicialmente sao criados com uma taxa de chegada que tem distribuição V.A exponencial com média 0,5. Após criados os jobs com seus tempos de chegadas, todos eles são colocados na fila do servidor 1. Logo após os jobs são consumidos de acordo com a disponibilidade do servidor 1 (e se o tempo que eles chegarem for maior que o tempo atual, já que não podem ser servidos antes de \"existirem\").\n",
    "\n",
    "A abordagem de adicionar todos os jobs na fila logo em sua chegada foi tomada procurando simplificar o processo de chegada e geração de jobs na fila, já que procuravamos simular o sistema e seu tempo médio.\n",
    "\n",
    "As distribuições de tempo de serviço foram setadas em diferentes funções para cada servidor.\n",
    "\n",
    "(escrever mais aqui sobre as escolhas e detalhes do projeto, em suma.)"
   ]
  },
  {
   "cell_type": "code",
   "execution_count": 1,
   "metadata": {},
   "outputs": [],
   "source": [
    "from typing import Callable, Tuple\n",
    "import numpy as np\n",
    "import queue\n",
    "import random"
   ]
  },
  {
   "cell_type": "code",
   "execution_count": 2,
   "metadata": {},
   "outputs": [],
   "source": [
    "class Job:\n",
    "  \"\"\"\n",
    "  Define um job.\n",
    "\n",
    "  Attributes\n",
    "    ----------\n",
    "    id : int\n",
    "        O id do job.\n",
    "    tempo_de_chegada : int\n",
    "        O tempo de chegada do job no sistema.\n",
    "    tempo_de_saida : int\n",
    "        O tempo de saida do job no sistema.\n",
    "  \"\"\"\n",
    "  def __init__(self, id: int, tempo_de_chegada: float):\n",
    "    self.id = id\n",
    "    self.tempo_de_chegada = tempo_de_chegada\n",
    "    self.tempo_de_saida = 0"
   ]
  },
  {
   "cell_type": "code",
   "execution_count": 3,
   "metadata": {},
   "outputs": [],
   "source": [
    "def gera_jobs(quantidade_de_jobs: int, warmup: int, tempo_entre_chegadas: float = 0.5) -> list[Job]:\n",
    "  \"\"\"\n",
    "  Gera uma lista de objetos Job com diferentes tempos de chegada.\n",
    "  Os tempos de chegada seguem uma V.A Exponencial de média 0.5.\n",
    "\n",
    "    Parameters:\n",
    "        quantidade_de_jobs (int) : Número de jobs a serem gerados.\n",
    "        warmup (int) : Número de jobs de warmup a serem gerados.\n",
    "        tempo_entre_chegadas (float, optional) : Média da variável exponencial (1/lambda). Valor padrão: 0.5.\n",
    "    Returns:\n",
    "        list : Uma lista de objetos Job.\n",
    "  \"\"\"\n",
    "  tempo_atual = 0\n",
    "  jobs = []\n",
    "  for i in range(0, quantidade_de_jobs + warmup):\n",
    "    jobs.append(Job(i, tempo_atual))\n",
    "    tempo_atual += np.random.exponential(tempo_entre_chegadas)\n",
    "  return jobs"
   ]
  },
  {
   "cell_type": "code",
   "execution_count": 4,
   "metadata": {},
   "outputs": [],
   "source": [
    "class ServidorInicial():\n",
    "  \"\"\"\n",
    "  <documentação do servidor 1>\n",
    "\n",
    "  Attributes\n",
    "    ----------\n",
    "        tempo_de_serviço : float\n",
    "          \n",
    "        ocupado : bool\n",
    "\n",
    "        tempo_previsto_de_termino : float\n",
    "\n",
    "        fila : queue.Queue()\n",
    "\n",
    "        job_trabalhando : Job or None\n",
    "\n",
    "  \"\"\"\n",
    "  def __init__(self, tempo_de_serviço: float):\n",
    "    self.tempo_de_serviço = tempo_de_serviço\n",
    "    self.ocupado = False\n",
    "    self.tempo_previsto_de_termino = 0\n",
    "    self.fila = queue.Queue()\n",
    "    self.job_trabalhando = None\n",
    "\n",
    "  \n",
    "  def trabalha(self, tempo_atual: float, job: Job = None):\n",
    "    \"\"\"\n",
    "    <doc da funcao> # o servidor começa a executar um job se ele não estiver ocupado. Se estiver ocupado, coloca o job na fila.\n",
    "\n",
    "      Parameters:\n",
    "    \"\"\"\n",
    "    if not self.ocupado and not self.fila.empty():\n",
    "\n",
    "      ## condição para não rodar jobs que teoricamente \"ainda não chegaram\"\n",
    "      if tempo_atual < self.fila.queue[0].tempo_de_chegada:\n",
    "        return\n",
    "\n",
    "      job = self.fila.get(job)\n",
    "      self.job_trabalhando = job\n",
    "      job.tempo_de_saida = tempo_atual + self.tempo_de_serviço\n",
    "\n",
    "      self.ocupado = True\n",
    "\n",
    "  def conclui_trabalho(self, tempo_atual: float) -> Job:\n",
    "    \"\"\"\n",
    "    <doc da funcao> # conclui o trabalho que o servidor estava trabalhando  \n",
    "\n",
    "      Parameters:\n",
    "      Returns:\n",
    "    \"\"\"\n",
    "    if self.ocupado and tempo_atual >= self.job_trabalhando.tempo_de_saida:\n",
    "      job_saindo = self.job_trabalhando\n",
    "\n",
    "      self.ocupado = False\n",
    "      self.job_trabalhando = None\n",
    "\n",
    "      return job_saindo"
   ]
  },
  {
   "cell_type": "code",
   "execution_count": 5,
   "metadata": {},
   "outputs": [],
   "source": [
    "class ServidoresFinais():\n",
    "  \"\"\"\n",
    "  <documentação do servidor 1>\n",
    "\n",
    "  Attributes\n",
    "    ----------\n",
    "        tempo_de_serviço : float\n",
    "\n",
    "        chance_de_retornar : float, optional\n",
    "          \n",
    "        ocupado : bool\n",
    "\n",
    "        tempo_previsto_de_termino : float\n",
    "\n",
    "        fila : queue.Queue()\n",
    "\n",
    "  \"\"\"\n",
    "  def __init__(self, tempo_de_serviço: float, chance_de_retornar: float = 0):\n",
    "    self.tempo_de_serviço = tempo_de_serviço\n",
    "    self.chance_de_retornar = chance_de_retornar\n",
    "    self.ocupado = False\n",
    "    self.tempo_previsto_de_termino = 0\n",
    "    self.fila = queue.Queue()\n",
    "  \n",
    "  def trabalha(self, tempo_atual: float):\n",
    "    \"\"\"\n",
    "    <doc da funcao> # o servidor começa a executar um job se ele não estiver ocupado. Se estiver ocupado, coloca o job na fila.\n",
    "\n",
    "      Parameters:\n",
    "    \"\"\"\n",
    "    job = None\n",
    "\n",
    "    if not self.ocupado and not self.fila.empty():\n",
    "      job = self.fila.get(job)\n",
    "      job.tempo_de_saida = tempo_atual + self.tempo_de_serviço\n",
    "\n",
    "      self.ocupado = True\n",
    "      self.tempo_previsto_de_termino = tempo_atual + self.tempo_de_serviço\n",
    "\n",
    "      ## calcula se o job retornará para fila com probabilidade 'chance_de_retornar'\n",
    "      if random.random() < self.chance_de_retornar:\n",
    "        self.fila.put(job)\n",
    "  \n",
    "  def conclui_trabalho(self, tempo_atual: float):\n",
    "    \"\"\"\n",
    "    <doc da funcao> # conclui o trabalho que o servidor estava trabalhando  \n",
    "\n",
    "      Parameters:\n",
    "    \"\"\"\n",
    "    if self.ocupado and tempo_atual >= self.tempo_previsto_de_termino:\n",
    "      self.ocupado = False\n",
    "      self.tempo_previsto_de_termino = 0\n",
    "\n",
    "      self.trabalha(tempo_atual)"
   ]
  },
  {
   "cell_type": "code",
   "execution_count": 6,
   "metadata": {},
   "outputs": [],
   "source": [
    "def sistema(jobs: list[Job], funcao_servidor_1: Callable[[], float], funcao_servidor_2: Callable[[], float], funcao_servidor_3: Callable[[], float]):\n",
    "  \"\"\"\n",
    "    <doc da funcao>\n",
    "\n",
    "      Parameters:\n",
    "  \"\"\"\n",
    "  tempo_atual = 0\n",
    "\n",
    "  Servidor1 = ServidorInicial(funcao_servidor_1())\n",
    "  Servidor2 = ServidoresFinais(funcao_servidor_2(), 0.2)\n",
    "  Servidor3 = ServidoresFinais(funcao_servidor_3())\n",
    "\n",
    "  opcoes = [\"S2\", \"S3\"]\n",
    "  probabilidades = [0.5, 0.5]\n",
    "\n",
    "  ## insere os jobs na fila do servidor 1\n",
    "  for job in jobs:\n",
    "    Servidor1.fila.put(job)\n",
    "\n",
    "  ## o primeiro job a chegar é sempre executado direto, pq a fila tá vazia\n",
    "  Servidor1.trabalha(tempo_atual)\n",
    "\n",
    "  while not Servidor1.fila.empty() or Servidor1.ocupado or not Servidor2.fila.empty() or Servidor2.ocupado or not Servidor3.fila.empty() or Servidor3.ocupado:\n",
    "\n",
    "    # tenta executar o proximo serviço, se o servidor estiver livre\n",
    "    job = Servidor1.conclui_trabalho(tempo_atual)\n",
    "    Servidor1.trabalha(tempo_atual)\n",
    "    \n",
    "    # # se o job saiu do servidor 1:\n",
    "    if job:\n",
    "      #print(f\"o job com id:{job.id} saiu do servidor 1 no tempo: {tempo_atual} - chegada: {job.tempo_de_chegada} - tempo no sistema: {job.tempo_de_saida}\")\n",
    "      # escolhe o servidor com base nas probabilidades\n",
    "      servidor_escolhido = random.choices(opcoes, probabilidades)[0]\n",
    "\n",
    "      if servidor_escolhido == \"S2\":\n",
    "        #print(f\"o job com id:{job.id} escolheu o servidor S2.\")\n",
    "        # adiciona o job na fila do servidor 2\n",
    "        Servidor2.fila.put(job)\n",
    "        Servidor2.trabalha(tempo_atual)\n",
    "      else:\n",
    "        #print(f\"o job com id:{job.id} escolheu o servidor S3.\")\n",
    "        # adiciona o job na fila do servidor 3\n",
    "        Servidor3.fila.put(job)\n",
    "        Servidor3.trabalha(tempo_atual)\n",
    "\n",
    "    Servidor2.conclui_trabalho(tempo_atual)\n",
    "    Servidor3.conclui_trabalho(tempo_atual)\n",
    "\n",
    "    tempo_atual += 0.01"
   ]
  },
  {
   "cell_type": "markdown",
   "metadata": {},
   "source": [
    "abaixo as definições dos tempos de serviço etc"
   ]
  },
  {
   "cell_type": "code",
   "execution_count": 7,
   "metadata": {},
   "outputs": [],
   "source": [
    "# Situação 1: os tempos de serviço são fixos, determinísticos, e iguais a 0.4s, 0.6s e 0.95s, respectivamente.\n",
    "def S1_deterministico(): return 0.4\n",
    "def S2_deterministico(): return 0.6\n",
    "def S3_deterministico(): return 0.95\n",
    "\n",
    "# Situação 2: os tempos de serviço nos três servidores são V.A.s uniformes nos intervalos (0.1, 0.7), (0.1, 1.1) e (0.1, 1.8), respectivamente. \n",
    "def S1_uniforme(): return np.random.uniform(0.1, 0.7)\n",
    "def S2_uniforme(): return np.random.uniform(0.1, 1.1)\n",
    "def S3_uniforme(): return np.random.uniform(0.1, 1.8)\n",
    "\n",
    "# Situação 3: os tempos de serviço são V.A.s exponenciais com médias 0.4s, 0.6s e 0.95s, respectivamente.\n",
    "def S1_exponencial(): return np.random.exponential(0.4)\n",
    "def S2_exponencial(): return np.random.exponential(0.6)\n",
    "def S3_exponencial(): return np.random.exponential(0.95)"
   ]
  },
  {
   "cell_type": "markdown",
   "metadata": {},
   "source": [
    "### Execução da simulação"
   ]
  },
  {
   "cell_type": "markdown",
   "metadata": {},
   "source": [
    "A simulação foi executada utilizando 10000 jobs de warmup e 10000 jobs \"reais\", para cada situação."
   ]
  },
  {
   "cell_type": "code",
   "execution_count": 8,
   "metadata": {},
   "outputs": [],
   "source": [
    "QUANTIDADE_DE_JOBS, WARMUP = 10000, 10000"
   ]
  },
  {
   "cell_type": "code",
   "execution_count": 9,
   "metadata": {},
   "outputs": [],
   "source": [
    "jobs_deterministicos = gera_jobs(QUANTIDADE_DE_JOBS, WARMUP)\n",
    "sistema(jobs_deterministicos, S1_deterministico, S2_deterministico, S3_deterministico)"
   ]
  },
  {
   "cell_type": "code",
   "execution_count": 10,
   "metadata": {},
   "outputs": [],
   "source": [
    "jobs_uniformes = gera_jobs(QUANTIDADE_DE_JOBS, WARMUP)\n",
    "sistema(jobs_uniformes, S1_uniforme, S2_uniforme, S3_uniforme)"
   ]
  },
  {
   "cell_type": "code",
   "execution_count": 11,
   "metadata": {},
   "outputs": [],
   "source": [
    "jobs_exponenciais = gera_jobs(QUANTIDADE_DE_JOBS, WARMUP)\n",
    "sistema(jobs_exponenciais, S1_exponencial, S2_exponencial, S3_exponencial)"
   ]
  },
  {
   "cell_type": "markdown",
   "metadata": {},
   "source": [
    "## Métricas"
   ]
  },
  {
   "cell_type": "markdown",
   "metadata": {},
   "source": [
    "A abordagem utilizada para calcular as métricas foi pegar o tempo de saida do job reduzir do tempo de chegada e utilizar esse valor como \"tempo no sistema\".\n",
    "A partir disso foi calculado a média do tempo no sistema e o desvio padrão."
   ]
  },
  {
   "cell_type": "code",
   "execution_count": 12,
   "metadata": {},
   "outputs": [],
   "source": [
    "def calcula_metricas(jobs: list[Job]) -> Tuple[float, float]:\n",
    "  \"\"\"\n",
    "  <doc da funcao> # calcula as métricas de tempo medio no sistema e desvio padrao\n",
    "\n",
    "    Parameters:\n",
    "  \"\"\"\n",
    "  tempo_total_no_sistema = sum((job.tempo_de_saida - job.tempo_de_chegada) for job in jobs[WARMUP:])\n",
    "  tempo_medio_no_sistema = tempo_total_no_sistema / QUANTIDADE_DE_JOBS\n",
    "\n",
    "  desvio_padrao_no_tempo_do_sistema = np.std([job.tempo_de_saida - job.tempo_de_chegada for job in jobs[WARMUP:]])\n",
    "\n",
    "  return tempo_medio_no_sistema, desvio_padrao_no_tempo_do_sistema"
   ]
  },
  {
   "cell_type": "markdown",
   "metadata": {},
   "source": [
    "Calculando as métricas para cada situação."
   ]
  },
  {
   "cell_type": "code",
   "execution_count": 13,
   "metadata": {},
   "outputs": [],
   "source": [
    "metricas_deterministico = calcula_metricas(jobs_deterministicos)\n",
    "metricas_uniforme = calcula_metricas(jobs_uniformes)\n",
    "metricas_exponencial = calcula_metricas(jobs_exponenciais)"
   ]
  },
  {
   "cell_type": "code",
   "execution_count": 14,
   "metadata": {},
   "outputs": [
    {
     "name": "stdout",
     "output_type": "stream",
     "text": [
      "Situação 1 (Tempos de serviço determinísticos)\tTempo médio do sistema: 12.961196477501966\tDesvio padrão no tempo do sistema: 15.675379957805404\n",
      "Situação 2 (Tempos de serviço uniformes)\tTempo médio do sistema: 1.1446386455524236\tDesvio padrão no tempo do sistema: 0.6375873594031732\n",
      "Situação 3 (Tempos de serviço exponenciais)\tTempo médio do sistema: 0.8046111517316822\tDesvio padrão no tempo do sistema: 0.492782177353561\n"
     ]
    }
   ],
   "source": [
    "print(f\"Situação 1 (Tempos de serviço determinísticos)\\tTempo médio do sistema: {metricas_deterministico[0]}\\tDesvio padrão no tempo do sistema: {metricas_deterministico[1]}\")\n",
    "print(f\"Situação 2 (Tempos de serviço uniformes)\\tTempo médio do sistema: {metricas_uniforme[0]}\\tDesvio padrão no tempo do sistema: {metricas_uniforme[1]}\")\n",
    "print(f\"Situação 3 (Tempos de serviço exponenciais)\\tTempo médio do sistema: {metricas_exponencial[0]}\\tDesvio padrão no tempo do sistema: {metricas_exponencial[1]}\")"
   ]
  },
  {
   "cell_type": "markdown",
   "metadata": {},
   "source": [
    "Escrever alguma conclusão basica sobre a simulação."
   ]
  }
 ],
 "metadata": {
  "kernelspec": {
   "display_name": "Python 3",
   "language": "python",
   "name": "python3"
  },
  "language_info": {
   "codemirror_mode": {
    "name": "ipython",
    "version": 3
   },
   "file_extension": ".py",
   "mimetype": "text/x-python",
   "name": "python",
   "nbconvert_exporter": "python",
   "pygments_lexer": "ipython3",
   "version": "3.9.7"
  }
 },
 "nbformat": 4,
 "nbformat_minor": 2
}
